{
  "cells": [
    {
      "cell_type": "markdown",
      "metadata": {
        "id": "view-in-github",
        "colab_type": "text"
      },
      "source": [
        "<a href=\"https://colab.research.google.com/github/sugatoray/python-demos/blob/master/demos/notebooks/interleave_lists/python_demo_interleave_lists.ipynb\" target=\"_parent\"><img src=\"https://colab.research.google.com/assets/colab-badge.svg\" alt=\"Open In Colab\"/></a>"
      ]
    },
    {
      "cell_type": "markdown",
      "source": [
        "# Summary\n",
        "\n",
        "You may have multiple lists of different lengths. If you want to intereleave them, and still include the elements from the longest list, this notebook explains how to do that using python."
      ],
      "metadata": {
        "id": "j5rKSI1TkqUE"
      }
    },
    {
      "cell_type": "markdown",
      "source": [
        "## References\n",
        "\n",
        "- Stackoverflow Question: [Zipping lists of unequal size](https://stackoverflow.com/questions/11318977/zipping-lists-of-unequal-size)\n",
        "- LinkedIn Post on using `toolz` library: [here](https://www.linkedin.com/posts/ramsrig_nlp-python-search-activity-6894130729471856640--qTh) `[credit]`"
      ],
      "metadata": {
        "id": "Rz5KlUyEu_Hy"
      }
    },
    {
      "cell_type": "code",
      "execution_count": 1,
      "metadata": {
        "id": "lIYdn1woOS1n"
      },
      "outputs": [],
      "source": [
        "# define three lists of different lengths\n",
        "a = [1, 2, 3]\n",
        "b = [4, 5, 6, 7]\n",
        "c = [8, 9, 10, 11, 12]"
      ]
    },
    {
      "cell_type": "code",
      "source": [
        "# expected output\n",
        "out = [1, 4, 8, 2, 5, 9, 3, 6, 10, 7, 11, 12]"
      ],
      "metadata": {
        "id": "9IojP3NMkVXH"
      },
      "execution_count": 2,
      "outputs": []
    },
    {
      "cell_type": "markdown",
      "source": [
        "## Method-1: *with simple native python code*"
      ],
      "metadata": {
        "id": "WjoKjMN6qcsh"
      }
    },
    {
      "cell_type": "code",
      "source": [
        "import itertools\n",
        "from typing import List, Optional, Iterable, Union\n",
        "\n",
        "def interleave(lists: Union[List[Iterable], Iterable], *, fillvalue: Optional[object]=None, nofill: bool=True) -> List:\n",
        "    \"\"\"Interleaves multiple iterators and returns a ``list``.\"\"\"\n",
        "    result = []\n",
        "    for batch in itertools.zip_longest(*lists, fillvalue=fillvalue):\n",
        "        if nofill:\n",
        "            result.extend(list(x for x in batch if x is not fillvalue))\n",
        "        else:\n",
        "            result.extend(list(batch))\n",
        "    return result"
      ],
      "metadata": {
        "id": "5TIUTESJmjR5"
      },
      "execution_count": 3,
      "outputs": []
    },
    {
      "cell_type": "markdown",
      "source": [
        "### Check Output\n",
        "\n",
        "We will check the output for the following types of inputs.\n",
        "\n",
        "- [x] `List[List]`\n",
        "- [x] `Tuple[List]`\n",
        "- [x] `List[Tuple]`\n",
        "- [x] `Tuple[Tuple]`"
      ],
      "metadata": {
        "id": "Emy3R6LMrTtL"
      }
    },
    {
      "cell_type": "code",
      "source": [
        "# input: List[List]\n",
        "interleave([a, b, c])"
      ],
      "metadata": {
        "id": "0owFvSDSnGHr",
        "outputId": "1ea044ba-78eb-41f9-fe3e-9430ea2a6dea",
        "colab": {
          "base_uri": "https://localhost:8080/"
        }
      },
      "execution_count": 4,
      "outputs": [
        {
          "output_type": "execute_result",
          "data": {
            "text/plain": [
              "[1, 4, 8, 2, 5, 9, 3, 6, 10, 7, 11, 12]"
            ]
          },
          "metadata": {},
          "execution_count": 4
        }
      ]
    },
    {
      "cell_type": "code",
      "source": [
        "# input: Tuple[List]\n",
        "interleave((a, b, c))"
      ],
      "metadata": {
        "id": "dHlaQSGepvLS",
        "outputId": "8c1c8d26-0ec9-4d6e-9d8b-b44387c215d2",
        "colab": {
          "base_uri": "https://localhost:8080/"
        }
      },
      "execution_count": 5,
      "outputs": [
        {
          "output_type": "execute_result",
          "data": {
            "text/plain": [
              "[1, 4, 8, 2, 5, 9, 3, 6, 10, 7, 11, 12]"
            ]
          },
          "metadata": {},
          "execution_count": 5
        }
      ]
    },
    {
      "cell_type": "code",
      "source": [
        "# input: List[Tuple]\n",
        "interleave([tuple(x) for x in (a, b, c)])"
      ],
      "metadata": {
        "id": "EkW6CgbdqulR",
        "outputId": "70ffbb73-3838-40ae-ed68-9d69600684ae",
        "colab": {
          "base_uri": "https://localhost:8080/"
        }
      },
      "execution_count": 6,
      "outputs": [
        {
          "output_type": "execute_result",
          "data": {
            "text/plain": [
              "[1, 4, 8, 2, 5, 9, 3, 6, 10, 7, 11, 12]"
            ]
          },
          "metadata": {},
          "execution_count": 6
        }
      ]
    },
    {
      "cell_type": "code",
      "source": [
        "# input: Tuple[Tuple]\n",
        "interleave((tuple(x) for x in (a, b, c)))"
      ],
      "metadata": {
        "id": "oxMemJllq31r",
        "outputId": "5ceb76ea-ca14-4922-f5a7-342040962ca9",
        "colab": {
          "base_uri": "https://localhost:8080/"
        }
      },
      "execution_count": 7,
      "outputs": [
        {
          "output_type": "execute_result",
          "data": {
            "text/plain": [
              "[1, 4, 8, 2, 5, 9, 3, 6, 10, 7, 11, 12]"
            ]
          },
          "metadata": {},
          "execution_count": 7
        }
      ]
    },
    {
      "cell_type": "markdown",
      "source": [
        "## Method-2: *with `toolz` library*\n",
        "\n",
        "- toolz: \n",
        "  - GitHub: https://github.com/pytoolz/toolz/\n",
        "  - PyPI: https://pypi.org/project/toolz/\n",
        "  - Conda: https://anaconda.org/conda-forge/toolz\n",
        "  - Docs: https://toolz.readthedocs.io/en/latest/\n",
        "\n",
        "The function that we will use here from `toolz` library is:\n",
        "\n",
        "- `toolz.itertoolz.interleave` [docs](https://toolz.readthedocs.io/en/latest/api.html#toolz.itertoolz.interleave)"
      ],
      "metadata": {
        "id": "Yqwz_tv5rx97"
      }
    },
    {
      "cell_type": "code",
      "source": [
        "%%capture\n",
        "# Using capture suppresses installation progress outputs\n",
        "! pip install toolz -Uqq"
      ],
      "metadata": {
        "id": "UX36nMzIrO68"
      },
      "execution_count": 8,
      "outputs": []
    },
    {
      "cell_type": "code",
      "source": [
        "import toolz"
      ],
      "metadata": {
        "id": "US-Npd3GtB_r"
      },
      "execution_count": 9,
      "outputs": []
    },
    {
      "cell_type": "code",
      "source": [
        "# Note: The function toolz.itertoolz.interleave returns a generator object. \n",
        "#       Thus, it is necessary to pass it through a list() call and get a list.\n",
        "list(toolz.itertoolz.interleave([a, b, c]))"
      ],
      "metadata": {
        "id": "7giXO0-AtJUg",
        "outputId": "81ffcfda-e0c1-4b83-c17d-538028aafbb4",
        "colab": {
          "base_uri": "https://localhost:8080/"
        }
      },
      "execution_count": 10,
      "outputs": [
        {
          "output_type": "execute_result",
          "data": {
            "text/plain": [
              "[1, 4, 8, 2, 5, 9, 3, 6, 10, 7, 11, 12]"
            ]
          },
          "metadata": {},
          "execution_count": 10
        }
      ]
    },
    {
      "cell_type": "code",
      "source": [
        ""
      ],
      "metadata": {
        "id": "YuqpVQBVtbQC"
      },
      "execution_count": 10,
      "outputs": []
    }
  ],
  "metadata": {
    "colab": {
      "name": "python_demo_interleave_lists",
      "provenance": [],
      "collapsed_sections": [],
      "toc_visible": true,
      "include_colab_link": true
    },
    "kernelspec": {
      "display_name": "Python 3",
      "name": "python3"
    }
  },
  "nbformat": 4,
  "nbformat_minor": 0
}